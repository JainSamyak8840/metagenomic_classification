{
 "cells": [
  {
   "cell_type": "markdown",
   "metadata": {
    "colab_type": "text",
    "id": "2yYPhs2FfgJo"
   },
   "source": [
    "## Metagenomics Data Preprocessing "
   ]
  },
  {
   "cell_type": "code",
   "execution_count": 1,
   "metadata": {
    "colab": {
     "base_uri": "https://localhost:8080/",
     "height": 34
    },
    "colab_type": "code",
    "executionInfo": {
     "elapsed": 1332,
     "status": "ok",
     "timestamp": 1595471749461,
     "user": {
      "displayName": "Samyak Jain",
      "photoUrl": "https://lh3.googleusercontent.com/a-/AOh14Gioocp3b6d0F-BZZ3D9c4FJz-F7ie6BPVSG0xZr=s64",
      "userId": "08656034860933804166"
     },
     "user_tz": -330
    },
    "id": "N1XswFU1fs4H",
    "outputId": "c23784b6-8482-4660-cf97-62fdf6ce4808"
   },
   "outputs": [
    {
     "ename": "ModuleNotFoundError",
     "evalue": "No module named 'torch'",
     "output_type": "error",
     "traceback": [
      "\u001b[1;31m---------------------------------------------------------------------------\u001b[0m",
      "\u001b[1;31mModuleNotFoundError\u001b[0m                       Traceback (most recent call last)",
      "\u001b[1;32m<ipython-input-1-eaf8374a1472>\u001b[0m in \u001b[0;36m<module>\u001b[1;34m\u001b[0m\n\u001b[1;32m----> 1\u001b[1;33m \u001b[1;32mimport\u001b[0m \u001b[0mtorch\u001b[0m\u001b[1;33m,\u001b[0m \u001b[0mgc\u001b[0m\u001b[1;33m\u001b[0m\u001b[1;33m\u001b[0m\u001b[0m\n\u001b[0m\u001b[0;32m      2\u001b[0m \u001b[1;32mimport\u001b[0m \u001b[0mmath\u001b[0m\u001b[1;33m\u001b[0m\u001b[1;33m\u001b[0m\u001b[0m\n\u001b[0;32m      3\u001b[0m \u001b[1;32mimport\u001b[0m \u001b[0mnumpy\u001b[0m \u001b[1;32mas\u001b[0m \u001b[0mnp\u001b[0m\u001b[1;33m\u001b[0m\u001b[1;33m\u001b[0m\u001b[0m\n\u001b[0;32m      4\u001b[0m \u001b[1;32mimport\u001b[0m \u001b[0mpandas\u001b[0m \u001b[1;32mas\u001b[0m \u001b[0mpd\u001b[0m\u001b[1;33m\u001b[0m\u001b[1;33m\u001b[0m\u001b[0m\n\u001b[0;32m      5\u001b[0m \u001b[1;32mimport\u001b[0m \u001b[0mpickle\u001b[0m \u001b[1;32mas\u001b[0m \u001b[0mpkl\u001b[0m\u001b[1;33m\u001b[0m\u001b[1;33m\u001b[0m\u001b[0m\n",
      "\u001b[1;31mModuleNotFoundError\u001b[0m: No module named 'torch'"
     ]
    }
   ],
   "source": [
    "import torch, gc\n",
    "import math\n",
    "import numpy as np\n",
    "import pandas as pd\n",
    "import pickle as pkl\n",
    "\n",
    "\n",
    "\n",
    "use_cuda = torch.cuda.is_available()\n",
    "\n",
    "if not use_cuda:\n",
    "    print('CUDA is not available.  Training on CPU ...')\n",
    "else:\n",
    "    print('CUDA is available!  Training on GPU ...')"
   ]
  },
  {
   "cell_type": "code",
   "execution_count": null,
   "metadata": {},
   "outputs": [],
   "source": [
    "conda install -c pytorch pytorch"
   ]
  },
  {
   "cell_type": "code",
   "execution_count": null,
   "metadata": {
    "colab": {},
    "colab_type": "code",
    "id": "jyfaUVV8f5V-"
   },
   "outputs": [],
   "source": [
    "from torchvision import datasets, transforms\n",
    "from collections import Counter\n",
    "\n",
    "path='/content/drive/My Drive/Metagenomics/Bacteria/'\n",
    "\n",
    "data=pd.read_csv(path+\"data.csv\")\n",
    "taxa=['name','Kingdom','Phylum','Class','Order','Family','Genus','Species']\n",
    "target={}\n",
    "Count={}\n",
    "for i in taxa:\n",
    "   target[i]=data[i]\n",
    "   Count[i]= Counter(target[i])\n",
    "   print(i,\":\\n\",Counter(target[i]))\n",
    "feature_read=data['read']\n",
    "print(\"Read length:\",len(feature_read))"
   ]
  },
  {
   "cell_type": "code",
   "execution_count": null,
   "metadata": {
    "colab": {
     "base_uri": "https://localhost:8080/",
     "height": 34
    },
    "colab_type": "code",
    "executionInfo": {
     "elapsed": 1439,
     "status": "ok",
     "timestamp": 1595205082899,
     "user": {
      "displayName": "Samyak Jain",
      "photoUrl": "https://lh3.googleusercontent.com/a-/AOh14Gioocp3b6d0F-BZZ3D9c4FJz-F7ie6BPVSG0xZr=s64",
      "userId": "08656034860933804166"
     },
     "user_tz": 420
    },
    "id": "8Hh0H1kgnSkD",
    "outputId": "9cb5bc50-cb93-4842-a498-01dadf62d1c4"
   },
   "outputs": [
    {
     "name": "stdout",
     "output_type": "stream",
     "text": [
      "25\n"
     ]
    }
   ],
   "source": [
    "drp=[]\n",
    "wnt=[]\n",
    "for i in Count['name']:\n",
    "   if Count['name'][i]<35:\n",
    "     drp.append(i)\n",
    "   else:\n",
    "     wnt.append(i)\n",
    "print(len(Count['name'])-len(drp))"
   ]
  },
  {
   "cell_type": "code",
   "execution_count": null,
   "metadata": {
    "colab": {
     "base_uri": "https://localhost:8080/",
     "height": 626
    },
    "colab_type": "code",
    "executionInfo": {
     "elapsed": 1393,
     "status": "ok",
     "timestamp": 1595205092714,
     "user": {
      "displayName": "Samyak Jain",
      "photoUrl": "https://lh3.googleusercontent.com/a-/AOh14Gioocp3b6d0F-BZZ3D9c4FJz-F7ie6BPVSG0xZr=s64",
      "userId": "08656034860933804166"
     },
     "user_tz": 420
    },
    "id": "boDTaR1Or1X9",
    "outputId": "20b6f1b3-f558-489d-d489-9161230e67f9"
   },
   "outputs": [
    {
     "data": {
      "text/html": [
       "<div>\n",
       "<style scoped>\n",
       "    .dataframe tbody tr th:only-of-type {\n",
       "        vertical-align: middle;\n",
       "    }\n",
       "\n",
       "    .dataframe tbody tr th {\n",
       "        vertical-align: top;\n",
       "    }\n",
       "\n",
       "    .dataframe thead th {\n",
       "        text-align: right;\n",
       "    }\n",
       "</style>\n",
       "<table border=\"1\" class=\"dataframe\">\n",
       "  <thead>\n",
       "    <tr style=\"text-align: right;\">\n",
       "      <th></th>\n",
       "      <th>Unnamed: 0</th>\n",
       "      <th>name</th>\n",
       "      <th>Kingdom</th>\n",
       "      <th>Phylum</th>\n",
       "      <th>Class</th>\n",
       "      <th>Order</th>\n",
       "      <th>Family</th>\n",
       "      <th>Genus</th>\n",
       "      <th>Species</th>\n",
       "      <th>read</th>\n",
       "    </tr>\n",
       "  </thead>\n",
       "  <tbody>\n",
       "    <tr>\n",
       "      <th>0</th>\n",
       "      <td>34</td>\n",
       "      <td>Saccharofermentans acetigenes</td>\n",
       "      <td>Bacteria</td>\n",
       "      <td>Firmicutes</td>\n",
       "      <td>Clostridia</td>\n",
       "      <td>Clostridiales</td>\n",
       "      <td>Ruminococcaceae</td>\n",
       "      <td>Saccharofermentans</td>\n",
       "      <td>Saccharofermentans_acetigenes</td>\n",
       "      <td>GATGAACGCTGGCGGCGTGCCTAACACATGCAAGTCGAGCGGAGTT...</td>\n",
       "    </tr>\n",
       "    <tr>\n",
       "      <th>1</th>\n",
       "      <td>1052</td>\n",
       "      <td>Saccharofermentans acetigenes</td>\n",
       "      <td>Bacteria</td>\n",
       "      <td>Firmicutes</td>\n",
       "      <td>Clostridia</td>\n",
       "      <td>Clostridiales</td>\n",
       "      <td>Ruminococcaceae</td>\n",
       "      <td>Saccharofermentans</td>\n",
       "      <td>Saccharofermentans_acetigenes</td>\n",
       "      <td>GATGAACGCTGGCGGCGTGCCTAACACATGCAAGTCGAGCGGAGAT...</td>\n",
       "    </tr>\n",
       "    <tr>\n",
       "      <th>2</th>\n",
       "      <td>1111</td>\n",
       "      <td>Saccharofermentans acetigenes</td>\n",
       "      <td>Bacteria</td>\n",
       "      <td>Firmicutes</td>\n",
       "      <td>Clostridia</td>\n",
       "      <td>Clostridiales</td>\n",
       "      <td>Ruminococcaceae</td>\n",
       "      <td>Saccharofermentans</td>\n",
       "      <td>Saccharofermentans_acetigenes</td>\n",
       "      <td>CGGATCCGCGCCGCTGCAGAGTTTGATCCTGGCTCAGGATGAACGC...</td>\n",
       "    </tr>\n",
       "    <tr>\n",
       "      <th>3</th>\n",
       "      <td>1124</td>\n",
       "      <td>Saccharofermentans acetigenes</td>\n",
       "      <td>Bacteria</td>\n",
       "      <td>Firmicutes</td>\n",
       "      <td>Clostridia</td>\n",
       "      <td>Clostridiales</td>\n",
       "      <td>Ruminococcaceae</td>\n",
       "      <td>Saccharofermentans</td>\n",
       "      <td>Saccharofermentans_acetigenes</td>\n",
       "      <td>GCGCCGCTGCAGAGTTTGATCCTGGCTCAGGATGAACGCTGGCGGC...</td>\n",
       "    </tr>\n",
       "    <tr>\n",
       "      <th>4</th>\n",
       "      <td>1945</td>\n",
       "      <td>Saccharofermentans acetigenes</td>\n",
       "      <td>Bacteria</td>\n",
       "      <td>Firmicutes</td>\n",
       "      <td>Clostridia</td>\n",
       "      <td>Clostridiales</td>\n",
       "      <td>Ruminococcaceae</td>\n",
       "      <td>Saccharofermentans</td>\n",
       "      <td>Saccharofermentans_acetigenes</td>\n",
       "      <td>GAGTTTGATCCTGGCTCAGGATGAACGCTGGCGGCGTGCTTAACAC...</td>\n",
       "    </tr>\n",
       "    <tr>\n",
       "      <th>...</th>\n",
       "      <td>...</td>\n",
       "      <td>...</td>\n",
       "      <td>...</td>\n",
       "      <td>...</td>\n",
       "      <td>...</td>\n",
       "      <td>...</td>\n",
       "      <td>...</td>\n",
       "      <td>...</td>\n",
       "      <td>...</td>\n",
       "      <td>...</td>\n",
       "    </tr>\n",
       "    <tr>\n",
       "      <th>870</th>\n",
       "      <td>7366</td>\n",
       "      <td>Ectothiorhodospiraceae Species</td>\n",
       "      <td>Bacteria</td>\n",
       "      <td>Proteobacteria</td>\n",
       "      <td>Gammaproteobacteria</td>\n",
       "      <td>Chromatiales</td>\n",
       "      <td>Ectothiorhodospiraceae</td>\n",
       "      <td>Ectothiorhodospiraceae_Genus</td>\n",
       "      <td>Ectothiorhodospiraceae_Species</td>\n",
       "      <td>CTTAACACATGCAAGTCGAACGGTAACAGGCCTAGCTTGCTAGGCG...</td>\n",
       "    </tr>\n",
       "    <tr>\n",
       "      <th>871</th>\n",
       "      <td>7417</td>\n",
       "      <td>Ectothiorhodospiraceae Species</td>\n",
       "      <td>Bacteria</td>\n",
       "      <td>Proteobacteria</td>\n",
       "      <td>Gammaproteobacteria</td>\n",
       "      <td>Chromatiales</td>\n",
       "      <td>Ectothiorhodospiraceae</td>\n",
       "      <td>Ectothiorhodospiraceae_Genus</td>\n",
       "      <td>Ectothiorhodospiraceae_Species</td>\n",
       "      <td>GCATGCTCGAGCGGCCGCCAGTGTGATGGATATCTGCAGAATTCGC...</td>\n",
       "    </tr>\n",
       "    <tr>\n",
       "      <th>872</th>\n",
       "      <td>7429</td>\n",
       "      <td>Ectothiorhodospiraceae Species</td>\n",
       "      <td>Bacteria</td>\n",
       "      <td>Proteobacteria</td>\n",
       "      <td>Gammaproteobacteria</td>\n",
       "      <td>Chromatiales</td>\n",
       "      <td>Ectothiorhodospiraceae</td>\n",
       "      <td>Ectothiorhodospiraceae_Genus</td>\n",
       "      <td>Ectothiorhodospiraceae_Species</td>\n",
       "      <td>AGAGTTTGATCCTGGCTCAGAATCAACGCTGGCGGCGTGCCTAACA...</td>\n",
       "    </tr>\n",
       "    <tr>\n",
       "      <th>873</th>\n",
       "      <td>8144</td>\n",
       "      <td>Ectothiorhodospiraceae Species</td>\n",
       "      <td>Bacteria</td>\n",
       "      <td>Proteobacteria</td>\n",
       "      <td>Gammaproteobacteria</td>\n",
       "      <td>Chromatiales</td>\n",
       "      <td>Ectothiorhodospiraceae</td>\n",
       "      <td>Ectothiorhodospiraceae_Genus</td>\n",
       "      <td>Ectothiorhodospiraceae_Species</td>\n",
       "      <td>CGGGTAGCTTGCTACCTGGCGGCGAGTGGCGGACGGGTGAGTAATG...</td>\n",
       "    </tr>\n",
       "    <tr>\n",
       "      <th>874</th>\n",
       "      <td>8530</td>\n",
       "      <td>Ectothiorhodospiraceae Species</td>\n",
       "      <td>Bacteria</td>\n",
       "      <td>Proteobacteria</td>\n",
       "      <td>Gammaproteobacteria</td>\n",
       "      <td>Chromatiales</td>\n",
       "      <td>Ectothiorhodospiraceae</td>\n",
       "      <td>Ectothiorhodospiraceae_Genus</td>\n",
       "      <td>Ectothiorhodospiraceae_Species</td>\n",
       "      <td>TGAACGCTGGCGGCATGCCTAACACATGCAAGTCGAACGGCAGCAG...</td>\n",
       "    </tr>\n",
       "  </tbody>\n",
       "</table>\n",
       "<p>875 rows × 10 columns</p>\n",
       "</div>"
      ],
      "text/plain": [
       "     Unnamed: 0  ...                                               read\n",
       "0            34  ...  GATGAACGCTGGCGGCGTGCCTAACACATGCAAGTCGAGCGGAGTT...\n",
       "1          1052  ...  GATGAACGCTGGCGGCGTGCCTAACACATGCAAGTCGAGCGGAGAT...\n",
       "2          1111  ...  CGGATCCGCGCCGCTGCAGAGTTTGATCCTGGCTCAGGATGAACGC...\n",
       "3          1124  ...  GCGCCGCTGCAGAGTTTGATCCTGGCTCAGGATGAACGCTGGCGGC...\n",
       "4          1945  ...  GAGTTTGATCCTGGCTCAGGATGAACGCTGGCGGCGTGCTTAACAC...\n",
       "..          ...  ...                                                ...\n",
       "870        7366  ...  CTTAACACATGCAAGTCGAACGGTAACAGGCCTAGCTTGCTAGGCG...\n",
       "871        7417  ...  GCATGCTCGAGCGGCCGCCAGTGTGATGGATATCTGCAGAATTCGC...\n",
       "872        7429  ...  AGAGTTTGATCCTGGCTCAGAATCAACGCTGGCGGCGTGCCTAACA...\n",
       "873        8144  ...  CGGGTAGCTTGCTACCTGGCGGCGAGTGGCGGACGGGTGAGTAATG...\n",
       "874        8530  ...  TGAACGCTGGCGGCATGCCTAACACATGCAAGTCGAACGGCAGCAG...\n",
       "\n",
       "[875 rows x 10 columns]"
      ]
     },
     "execution_count": 4,
     "metadata": {
      "tags": []
     },
     "output_type": "execute_result"
    }
   ],
   "source": [
    "df= data\n",
    "df_filtered = df[df['name'].isin(wnt)] \n",
    "df_filtered"
   ]
  },
  {
   "cell_type": "code",
   "execution_count": null,
   "metadata": {
    "colab": {
     "base_uri": "https://localhost:8080/",
     "height": 326
    },
    "colab_type": "code",
    "executionInfo": {
     "elapsed": 1393,
     "status": "ok",
     "timestamp": 1595205098639,
     "user": {
      "displayName": "Samyak Jain",
      "photoUrl": "https://lh3.googleusercontent.com/a-/AOh14Gioocp3b6d0F-BZZ3D9c4FJz-F7ie6BPVSG0xZr=s64",
      "userId": "08656034860933804166"
     },
     "user_tz": 420
    },
    "id": "y_j1xnEV-22g",
    "outputId": "b8dc82e4-8436-43ab-b6a0-025d25b09044"
   },
   "outputs": [
    {
     "name": "stdout",
     "output_type": "stream",
     "text": [
      "name :\n",
      " Counter({'Saccharofermentans acetigenes': 35, 'Coriobacteriaceae Species': 35, 'Saccharibacteria Species': 35, 'Acidipila rosea': 35, 'Christensenellaceae R-7': 35, 'Prevotella copri': 35, 'Ruminococcaceae Species': 35, 'Paludibaculum fermentans': 35, 'Clostridiales vadinBB60': 35, 'Anaerobacterium chartisolvens': 35, 'Rikenellaceae RC9': 35, 'Ruminiclostridium leptum': 35, 'Parcubacteria Species': 35, 'Clostridiales Species': 35, 'Lachnospiraceae Species': 35, 'Barnesiella intestinihominis': 35, 'Aciditerrimonas ferrireducens': 35, 'Geothrix fermentans': 35, 'Gemmatimonas aurantiaca': 35, 'Rhodospirillaceae Species': 35, 'Catenisphaera adipataccumulans': 35, '[Eubacterium] coprostanoligenes': 35, 'Sporobacter termitidis': 35, 'Lachnospiraceae NK4A136': 35, 'Ectothiorhodospiraceae Species': 35})\n",
      "Kingdom :\n",
      " Counter({'Bacteria': 875})\n",
      "Phylum :\n",
      " Counter({'Firmicutes': 420, 'Acidobacteria': 105, 'Bacteroidetes': 105, 'Actinobacteria': 70, 'Proteobacteria': 70, 'Saccharibacteria': 35, 'Parcubacteria': 35, 'Gemmatimonadetes': 35})\n",
      "Class :\n",
      " Counter({'Clostridia': 385, 'Bacteroidia': 105, 'Coriobacteriia': 35, 'Saccharibacteria_Class': 35, 'Acidobacteria': 35, 'Solibacteres': 35, 'Parcubacteria_Class': 35, 'Acidimicrobiia': 35, 'Holophagae': 35, 'Gemmatimonadetes': 35, 'Alphaproteobacteria': 35, 'Erysipelotrichia': 35, 'Gammaproteobacteria': 35})\n",
      "Order :\n",
      " Counter({'Clostridiales': 385, 'Bacteroidales': 105, 'Coriobacteriales': 35, 'Saccharibacteria_Order': 35, 'Acidobacteriales': 35, 'Solibacterales': 35, 'Parcubacteria_Order': 35, 'Acidimicrobiales': 35, 'Holophagales': 35, 'Gemmatimonadales': 35, 'Rhodospirillales': 35, 'Erysipelotrichales': 35, 'Chromatiales': 35})\n",
      "Family :\n",
      " Counter({'Ruminococcaceae': 210, 'Lachnospiraceae': 70, 'Coriobacteriaceae': 35, 'Saccharibacteria_Family': 35, 'Acidobacteriaceae': 35, 'Christensenellaceae': 35, 'Prevotellaceae': 35, 'Solibacteraceae': 35, 'Clostridiales_vadinBB60_group': 35, 'Rikenellaceae': 35, 'Parcubacteria_Family': 35, 'Clostridiales_Family': 35, 'Porphyromonadaceae': 35, 'Acidimicrobiaceae': 35, 'Holophagaceae': 35, 'Gemmatimonadaceae': 35, 'Rhodospirillaceae': 35, 'Erysipelotrichaceae': 35, 'Ectothiorhodospiraceae': 35})\n",
      "Genus :\n",
      " Counter({'Saccharofermentans': 35, 'Coriobacteriaceae_Genus': 35, 'Saccharibacteria_Genus': 35, 'Acidipila': 35, 'Christensenellaceae_R-7_group': 35, 'Prevotella': 35, 'Ruminococcaceae_Genus': 35, 'Paludibaculum': 35, 'Clostridiales_vadinBB60_group_Genus': 35, 'Anaerobacterium': 35, 'Rikenellaceae_RC9_gut_group': 35, 'Ruminiclostridium': 35, 'Parcubacteria_Genus': 35, 'Clostridiales_Genus': 35, 'Lachnospiraceae_Genus': 35, 'Barnesiella': 35, 'Aciditerrimonas': 35, 'Geothrix': 35, 'Gemmatimonas': 35, 'Rhodospirillaceae_Genus': 35, 'Catenisphaera': 35, '[Eubacterium]_coprostanoligenes_group': 35, 'Sporobacter': 35, 'Lachnospiraceae_NK4A136_group': 35, 'Ectothiorhodospiraceae_Genus': 35})\n",
      "Species :\n",
      " Counter({'Saccharofermentans_acetigenes': 35, 'Coriobacteriaceae_Species': 35, 'Saccharibacteria_Species': 35, 'Acidipila_rosea': 35, 'Christensenellaceae_R-7_group_Species': 35, 'Prevotella_copri': 35, 'Ruminococcaceae_Species': 35, 'Paludibaculum_fermentans': 35, 'Clostridiales_vadinBB60_group_Species': 35, 'Anaerobacterium_chartisolvens': 35, 'Rikenellaceae_RC9_gut_group_Species': 35, 'Ruminiclostridium_leptum': 35, 'Parcubacteria_Species': 35, 'Clostridiales_Species': 35, 'Lachnospiraceae_Species': 35, 'Barnesiella_intestinihominis': 35, 'Aciditerrimonas_ferrireducens': 35, 'Geothrix_fermentans': 35, 'Gemmatimonas_aurantiaca': 35, 'Rhodospirillaceae_Species': 35, 'Catenisphaera_adipataccumulans': 35, '[Eubacterium]_coprostanoligenes': 35, 'Sporobacter_termitidis': 35, 'Lachnospiraceae_NK4A136_group_Species': 35, 'Ectothiorhodospiraceae_Species': 35})\n",
      "Read length: 875\n"
     ]
    }
   ],
   "source": [
    "data= df_filtered\n",
    "taxa=['name','Kingdom','Phylum','Class','Order','Family','Genus','Species']\n",
    "target={}\n",
    "Count={}\n",
    "for i in taxa:\n",
    "   target[i]=data[i]\n",
    "   Count[i]= Counter(target[i])\n",
    "   print(i,\":\\n\",Counter(target[i]))\n",
    "feature_read=data['read']\n",
    "print(\"Read length:\",len(feature_read))"
   ]
  },
  {
   "cell_type": "code",
   "execution_count": null,
   "metadata": {
    "colab": {},
    "colab_type": "code",
    "id": "e8yxnRzG94SK"
   },
   "outputs": [],
   "source": [
    "df2= pd.DataFrame(columns= taxa+['read'])\n",
    "\n",
    "for i in wnt:\n",
    "   df2=df2.append(df.loc[df['name'] == i][:35])"
   ]
  },
  {
   "cell_type": "code",
   "execution_count": null,
   "metadata": {
    "colab": {
     "base_uri": "https://localhost:8080/",
     "height": 626
    },
    "colab_type": "code",
    "executionInfo": {
     "elapsed": 2068,
     "status": "ok",
     "timestamp": 1595205114984,
     "user": {
      "displayName": "Samyak Jain",
      "photoUrl": "https://lh3.googleusercontent.com/a-/AOh14Gioocp3b6d0F-BZZ3D9c4FJz-F7ie6BPVSG0xZr=s64",
      "userId": "08656034860933804166"
     },
     "user_tz": 420
    },
    "id": "_VQ2CMwZAi4i",
    "outputId": "ca031bda-eb39-42c5-b56f-f902ee7efd7e"
   },
   "outputs": [
    {
     "data": {
      "text/html": [
       "<div>\n",
       "<style scoped>\n",
       "    .dataframe tbody tr th:only-of-type {\n",
       "        vertical-align: middle;\n",
       "    }\n",
       "\n",
       "    .dataframe tbody tr th {\n",
       "        vertical-align: top;\n",
       "    }\n",
       "\n",
       "    .dataframe thead th {\n",
       "        text-align: right;\n",
       "    }\n",
       "</style>\n",
       "<table border=\"1\" class=\"dataframe\">\n",
       "  <thead>\n",
       "    <tr style=\"text-align: right;\">\n",
       "      <th></th>\n",
       "      <th>name</th>\n",
       "      <th>Kingdom</th>\n",
       "      <th>Phylum</th>\n",
       "      <th>Class</th>\n",
       "      <th>Order</th>\n",
       "      <th>Family</th>\n",
       "      <th>Genus</th>\n",
       "      <th>Species</th>\n",
       "      <th>read</th>\n",
       "      <th>Unnamed: 0</th>\n",
       "    </tr>\n",
       "  </thead>\n",
       "  <tbody>\n",
       "    <tr>\n",
       "      <th>0</th>\n",
       "      <td>Saccharofermentans acetigenes</td>\n",
       "      <td>Bacteria</td>\n",
       "      <td>Firmicutes</td>\n",
       "      <td>Clostridia</td>\n",
       "      <td>Clostridiales</td>\n",
       "      <td>Ruminococcaceae</td>\n",
       "      <td>Saccharofermentans</td>\n",
       "      <td>Saccharofermentans_acetigenes</td>\n",
       "      <td>GATGAACGCTGGCGGCGTGCCTAACACATGCAAGTCGAGCGGAGTT...</td>\n",
       "      <td>34.0</td>\n",
       "    </tr>\n",
       "    <tr>\n",
       "      <th>1</th>\n",
       "      <td>Saccharofermentans acetigenes</td>\n",
       "      <td>Bacteria</td>\n",
       "      <td>Firmicutes</td>\n",
       "      <td>Clostridia</td>\n",
       "      <td>Clostridiales</td>\n",
       "      <td>Ruminococcaceae</td>\n",
       "      <td>Saccharofermentans</td>\n",
       "      <td>Saccharofermentans_acetigenes</td>\n",
       "      <td>GATGAACGCTGGCGGCGTGCCTAACACATGCAAGTCGAGCGGAGAT...</td>\n",
       "      <td>1052.0</td>\n",
       "    </tr>\n",
       "    <tr>\n",
       "      <th>2</th>\n",
       "      <td>Saccharofermentans acetigenes</td>\n",
       "      <td>Bacteria</td>\n",
       "      <td>Firmicutes</td>\n",
       "      <td>Clostridia</td>\n",
       "      <td>Clostridiales</td>\n",
       "      <td>Ruminococcaceae</td>\n",
       "      <td>Saccharofermentans</td>\n",
       "      <td>Saccharofermentans_acetigenes</td>\n",
       "      <td>CGGATCCGCGCCGCTGCAGAGTTTGATCCTGGCTCAGGATGAACGC...</td>\n",
       "      <td>1111.0</td>\n",
       "    </tr>\n",
       "    <tr>\n",
       "      <th>3</th>\n",
       "      <td>Saccharofermentans acetigenes</td>\n",
       "      <td>Bacteria</td>\n",
       "      <td>Firmicutes</td>\n",
       "      <td>Clostridia</td>\n",
       "      <td>Clostridiales</td>\n",
       "      <td>Ruminococcaceae</td>\n",
       "      <td>Saccharofermentans</td>\n",
       "      <td>Saccharofermentans_acetigenes</td>\n",
       "      <td>GCGCCGCTGCAGAGTTTGATCCTGGCTCAGGATGAACGCTGGCGGC...</td>\n",
       "      <td>1124.0</td>\n",
       "    </tr>\n",
       "    <tr>\n",
       "      <th>4</th>\n",
       "      <td>Saccharofermentans acetigenes</td>\n",
       "      <td>Bacteria</td>\n",
       "      <td>Firmicutes</td>\n",
       "      <td>Clostridia</td>\n",
       "      <td>Clostridiales</td>\n",
       "      <td>Ruminococcaceae</td>\n",
       "      <td>Saccharofermentans</td>\n",
       "      <td>Saccharofermentans_acetigenes</td>\n",
       "      <td>GAGTTTGATCCTGGCTCAGGATGAACGCTGGCGGCGTGCTTAACAC...</td>\n",
       "      <td>1945.0</td>\n",
       "    </tr>\n",
       "    <tr>\n",
       "      <th>...</th>\n",
       "      <td>...</td>\n",
       "      <td>...</td>\n",
       "      <td>...</td>\n",
       "      <td>...</td>\n",
       "      <td>...</td>\n",
       "      <td>...</td>\n",
       "      <td>...</td>\n",
       "      <td>...</td>\n",
       "      <td>...</td>\n",
       "      <td>...</td>\n",
       "    </tr>\n",
       "    <tr>\n",
       "      <th>870</th>\n",
       "      <td>Ectothiorhodospiraceae Species</td>\n",
       "      <td>Bacteria</td>\n",
       "      <td>Proteobacteria</td>\n",
       "      <td>Gammaproteobacteria</td>\n",
       "      <td>Chromatiales</td>\n",
       "      <td>Ectothiorhodospiraceae</td>\n",
       "      <td>Ectothiorhodospiraceae_Genus</td>\n",
       "      <td>Ectothiorhodospiraceae_Species</td>\n",
       "      <td>CTTAACACATGCAAGTCGAACGGTAACAGGCCTAGCTTGCTAGGCG...</td>\n",
       "      <td>7366.0</td>\n",
       "    </tr>\n",
       "    <tr>\n",
       "      <th>871</th>\n",
       "      <td>Ectothiorhodospiraceae Species</td>\n",
       "      <td>Bacteria</td>\n",
       "      <td>Proteobacteria</td>\n",
       "      <td>Gammaproteobacteria</td>\n",
       "      <td>Chromatiales</td>\n",
       "      <td>Ectothiorhodospiraceae</td>\n",
       "      <td>Ectothiorhodospiraceae_Genus</td>\n",
       "      <td>Ectothiorhodospiraceae_Species</td>\n",
       "      <td>GCATGCTCGAGCGGCCGCCAGTGTGATGGATATCTGCAGAATTCGC...</td>\n",
       "      <td>7417.0</td>\n",
       "    </tr>\n",
       "    <tr>\n",
       "      <th>872</th>\n",
       "      <td>Ectothiorhodospiraceae Species</td>\n",
       "      <td>Bacteria</td>\n",
       "      <td>Proteobacteria</td>\n",
       "      <td>Gammaproteobacteria</td>\n",
       "      <td>Chromatiales</td>\n",
       "      <td>Ectothiorhodospiraceae</td>\n",
       "      <td>Ectothiorhodospiraceae_Genus</td>\n",
       "      <td>Ectothiorhodospiraceae_Species</td>\n",
       "      <td>AGAGTTTGATCCTGGCTCAGAATCAACGCTGGCGGCGTGCCTAACA...</td>\n",
       "      <td>7429.0</td>\n",
       "    </tr>\n",
       "    <tr>\n",
       "      <th>873</th>\n",
       "      <td>Ectothiorhodospiraceae Species</td>\n",
       "      <td>Bacteria</td>\n",
       "      <td>Proteobacteria</td>\n",
       "      <td>Gammaproteobacteria</td>\n",
       "      <td>Chromatiales</td>\n",
       "      <td>Ectothiorhodospiraceae</td>\n",
       "      <td>Ectothiorhodospiraceae_Genus</td>\n",
       "      <td>Ectothiorhodospiraceae_Species</td>\n",
       "      <td>CGGGTAGCTTGCTACCTGGCGGCGAGTGGCGGACGGGTGAGTAATG...</td>\n",
       "      <td>8144.0</td>\n",
       "    </tr>\n",
       "    <tr>\n",
       "      <th>874</th>\n",
       "      <td>Ectothiorhodospiraceae Species</td>\n",
       "      <td>Bacteria</td>\n",
       "      <td>Proteobacteria</td>\n",
       "      <td>Gammaproteobacteria</td>\n",
       "      <td>Chromatiales</td>\n",
       "      <td>Ectothiorhodospiraceae</td>\n",
       "      <td>Ectothiorhodospiraceae_Genus</td>\n",
       "      <td>Ectothiorhodospiraceae_Species</td>\n",
       "      <td>TGAACGCTGGCGGCATGCCTAACACATGCAAGTCGAACGGCAGCAG...</td>\n",
       "      <td>8530.0</td>\n",
       "    </tr>\n",
       "  </tbody>\n",
       "</table>\n",
       "<p>875 rows × 10 columns</p>\n",
       "</div>"
      ],
      "text/plain": [
       "                               name  ... Unnamed: 0\n",
       "0     Saccharofermentans acetigenes  ...       34.0\n",
       "1     Saccharofermentans acetigenes  ...     1052.0\n",
       "2     Saccharofermentans acetigenes  ...     1111.0\n",
       "3     Saccharofermentans acetigenes  ...     1124.0\n",
       "4     Saccharofermentans acetigenes  ...     1945.0\n",
       "..                              ...  ...        ...\n",
       "870  Ectothiorhodospiraceae Species  ...     7366.0\n",
       "871  Ectothiorhodospiraceae Species  ...     7417.0\n",
       "872  Ectothiorhodospiraceae Species  ...     7429.0\n",
       "873  Ectothiorhodospiraceae Species  ...     8144.0\n",
       "874  Ectothiorhodospiraceae Species  ...     8530.0\n",
       "\n",
       "[875 rows x 10 columns]"
      ]
     },
     "execution_count": 7,
     "metadata": {
      "tags": []
     },
     "output_type": "execute_result"
    }
   ],
   "source": [
    "df2"
   ]
  },
  {
   "cell_type": "code",
   "execution_count": null,
   "metadata": {
    "colab": {
     "base_uri": "https://localhost:8080/",
     "height": 326
    },
    "colab_type": "code",
    "executionInfo": {
     "elapsed": 1806,
     "status": "ok",
     "timestamp": 1595205121459,
     "user": {
      "displayName": "Samyak Jain",
      "photoUrl": "https://lh3.googleusercontent.com/a-/AOh14Gioocp3b6d0F-BZZ3D9c4FJz-F7ie6BPVSG0xZr=s64",
      "userId": "08656034860933804166"
     },
     "user_tz": 420
    },
    "id": "x4Q1fZPLTo3_",
    "outputId": "35fe0146-f332-4ea2-c728-857509405650"
   },
   "outputs": [
    {
     "name": "stdout",
     "output_type": "stream",
     "text": [
      "name :\n",
      " Counter({'Saccharofermentans acetigenes': 35, 'Coriobacteriaceae Species': 35, 'Saccharibacteria Species': 35, 'Acidipila rosea': 35, 'Christensenellaceae R-7': 35, 'Prevotella copri': 35, 'Ruminococcaceae Species': 35, 'Paludibaculum fermentans': 35, 'Clostridiales vadinBB60': 35, 'Anaerobacterium chartisolvens': 35, 'Rikenellaceae RC9': 35, 'Ruminiclostridium leptum': 35, 'Parcubacteria Species': 35, 'Clostridiales Species': 35, 'Lachnospiraceae Species': 35, 'Barnesiella intestinihominis': 35, 'Aciditerrimonas ferrireducens': 35, 'Geothrix fermentans': 35, 'Gemmatimonas aurantiaca': 35, 'Rhodospirillaceae Species': 35, 'Catenisphaera adipataccumulans': 35, '[Eubacterium] coprostanoligenes': 35, 'Sporobacter termitidis': 35, 'Lachnospiraceae NK4A136': 35, 'Ectothiorhodospiraceae Species': 35})\n",
      "Kingdom :\n",
      " Counter({'Bacteria': 875})\n",
      "Phylum :\n",
      " Counter({'Firmicutes': 420, 'Acidobacteria': 105, 'Bacteroidetes': 105, 'Actinobacteria': 70, 'Proteobacteria': 70, 'Saccharibacteria': 35, 'Parcubacteria': 35, 'Gemmatimonadetes': 35})\n",
      "Class :\n",
      " Counter({'Clostridia': 385, 'Bacteroidia': 105, 'Coriobacteriia': 35, 'Saccharibacteria_Class': 35, 'Acidobacteria': 35, 'Solibacteres': 35, 'Parcubacteria_Class': 35, 'Acidimicrobiia': 35, 'Holophagae': 35, 'Gemmatimonadetes': 35, 'Alphaproteobacteria': 35, 'Erysipelotrichia': 35, 'Gammaproteobacteria': 35})\n",
      "Order :\n",
      " Counter({'Clostridiales': 385, 'Bacteroidales': 105, 'Coriobacteriales': 35, 'Saccharibacteria_Order': 35, 'Acidobacteriales': 35, 'Solibacterales': 35, 'Parcubacteria_Order': 35, 'Acidimicrobiales': 35, 'Holophagales': 35, 'Gemmatimonadales': 35, 'Rhodospirillales': 35, 'Erysipelotrichales': 35, 'Chromatiales': 35})\n",
      "Family :\n",
      " Counter({'Ruminococcaceae': 210, 'Lachnospiraceae': 70, 'Coriobacteriaceae': 35, 'Saccharibacteria_Family': 35, 'Acidobacteriaceae': 35, 'Christensenellaceae': 35, 'Prevotellaceae': 35, 'Solibacteraceae': 35, 'Clostridiales_vadinBB60_group': 35, 'Rikenellaceae': 35, 'Parcubacteria_Family': 35, 'Clostridiales_Family': 35, 'Porphyromonadaceae': 35, 'Acidimicrobiaceae': 35, 'Holophagaceae': 35, 'Gemmatimonadaceae': 35, 'Rhodospirillaceae': 35, 'Erysipelotrichaceae': 35, 'Ectothiorhodospiraceae': 35})\n",
      "Genus :\n",
      " Counter({'Saccharofermentans': 35, 'Coriobacteriaceae_Genus': 35, 'Saccharibacteria_Genus': 35, 'Acidipila': 35, 'Christensenellaceae_R-7_group': 35, 'Prevotella': 35, 'Ruminococcaceae_Genus': 35, 'Paludibaculum': 35, 'Clostridiales_vadinBB60_group_Genus': 35, 'Anaerobacterium': 35, 'Rikenellaceae_RC9_gut_group': 35, 'Ruminiclostridium': 35, 'Parcubacteria_Genus': 35, 'Clostridiales_Genus': 35, 'Lachnospiraceae_Genus': 35, 'Barnesiella': 35, 'Aciditerrimonas': 35, 'Geothrix': 35, 'Gemmatimonas': 35, 'Rhodospirillaceae_Genus': 35, 'Catenisphaera': 35, '[Eubacterium]_coprostanoligenes_group': 35, 'Sporobacter': 35, 'Lachnospiraceae_NK4A136_group': 35, 'Ectothiorhodospiraceae_Genus': 35})\n",
      "Species :\n",
      " Counter({'Saccharofermentans_acetigenes': 35, 'Coriobacteriaceae_Species': 35, 'Saccharibacteria_Species': 35, 'Acidipila_rosea': 35, 'Christensenellaceae_R-7_group_Species': 35, 'Prevotella_copri': 35, 'Ruminococcaceae_Species': 35, 'Paludibaculum_fermentans': 35, 'Clostridiales_vadinBB60_group_Species': 35, 'Anaerobacterium_chartisolvens': 35, 'Rikenellaceae_RC9_gut_group_Species': 35, 'Ruminiclostridium_leptum': 35, 'Parcubacteria_Species': 35, 'Clostridiales_Species': 35, 'Lachnospiraceae_Species': 35, 'Barnesiella_intestinihominis': 35, 'Aciditerrimonas_ferrireducens': 35, 'Geothrix_fermentans': 35, 'Gemmatimonas_aurantiaca': 35, 'Rhodospirillaceae_Species': 35, 'Catenisphaera_adipataccumulans': 35, '[Eubacterium]_coprostanoligenes': 35, 'Sporobacter_termitidis': 35, 'Lachnospiraceae_NK4A136_group_Species': 35, 'Ectothiorhodospiraceae_Species': 35})\n",
      "No of rows: 875\n"
     ]
    }
   ],
   "source": [
    "data= df2\n",
    "taxa=['name','Kingdom','Phylum','Class','Order','Family','Genus','Species']\n",
    "target={}\n",
    "Count={}\n",
    "for i in taxa:\n",
    "   target[i]=data[i]\n",
    "   Count[i]= Counter(target[i])\n",
    "   print(i,\":\\n\",Counter(target[i]))\n",
    "feature_read=data['read']\n",
    "print(\"No of rows:\",len(feature_read))"
   ]
  },
  {
   "cell_type": "code",
   "execution_count": null,
   "metadata": {
    "colab": {},
    "colab_type": "code",
    "id": "5ZPphp8NXQ4k"
   },
   "outputs": [],
   "source": [
    "path= '/content/drive/My Drive/Metagenomics/Bacteria/data/Name/'\n",
    "#path= '/content/drive/My Drive/Metagenomics/Fungi/'\n",
    "df2.to_csv(path+\"data_name.csv\")\n",
    "#df2.to_csv(path+\"data.csv\")"
   ]
  },
  {
   "cell_type": "code",
   "execution_count": null,
   "metadata": {
    "colab": {
     "base_uri": "https://localhost:8080/",
     "height": 34
    },
    "colab_type": "code",
    "executionInfo": {
     "elapsed": 1669,
     "status": "ok",
     "timestamp": 1595205209726,
     "user": {
      "displayName": "Samyak Jain",
      "photoUrl": "https://lh3.googleusercontent.com/a-/AOh14Gioocp3b6d0F-BZZ3D9c4FJz-F7ie6BPVSG0xZr=s64",
      "userId": "08656034860933804166"
     },
     "user_tz": 420
    },
    "id": "rj0XyYHJYOKe",
    "outputId": "c29c3a04-328f-4379-e320-ac712371a663"
   },
   "outputs": [
    {
     "name": "stdout",
     "output_type": "stream",
     "text": [
      "875\n"
     ]
    }
   ],
   "source": [
    "path= '/content/drive/My Drive/Metagenomics/Bacteria/data/Name/'\n",
    "\n",
    "from torchvision import datasets, transforms\n",
    "\n",
    "data=pd.read_csv(path+\"data_name.csv\")\n",
    "target_name=data['name']\n",
    "feature_read=data['read']\n",
    "print(len(feature_read))"
   ]
  },
  {
   "cell_type": "code",
   "execution_count": null,
   "metadata": {
    "colab": {
     "base_uri": "https://localhost:8080/",
     "height": 442
    },
    "colab_type": "code",
    "executionInfo": {
     "elapsed": 1511,
     "status": "ok",
     "timestamp": 1595205221677,
     "user": {
      "displayName": "Samyak Jain",
      "photoUrl": "https://lh3.googleusercontent.com/a-/AOh14Gioocp3b6d0F-BZZ3D9c4FJz-F7ie6BPVSG0xZr=s64",
      "userId": "08656034860933804166"
     },
     "user_tz": 420
    },
    "id": "nnAUwTaTGN1i",
    "outputId": "290fefb2-7ef6-4dcb-f179-92ac2adaa267"
   },
   "outputs": [
    {
     "data": {
      "text/plain": [
       "{'Acidipila rosea',\n",
       " 'Aciditerrimonas ferrireducens',\n",
       " 'Anaerobacterium chartisolvens',\n",
       " 'Barnesiella intestinihominis',\n",
       " 'Catenisphaera adipataccumulans',\n",
       " 'Christensenellaceae R-7',\n",
       " 'Clostridiales Species',\n",
       " 'Clostridiales vadinBB60',\n",
       " 'Coriobacteriaceae Species',\n",
       " 'Ectothiorhodospiraceae Species',\n",
       " 'Gemmatimonas aurantiaca',\n",
       " 'Geothrix fermentans',\n",
       " 'Lachnospiraceae NK4A136',\n",
       " 'Lachnospiraceae Species',\n",
       " 'Paludibaculum fermentans',\n",
       " 'Parcubacteria Species',\n",
       " 'Prevotella copri',\n",
       " 'Rhodospirillaceae Species',\n",
       " 'Rikenellaceae RC9',\n",
       " 'Ruminiclostridium leptum',\n",
       " 'Ruminococcaceae Species',\n",
       " 'Saccharibacteria Species',\n",
       " 'Saccharofermentans acetigenes',\n",
       " 'Sporobacter termitidis',\n",
       " '[Eubacterium] coprostanoligenes'}"
      ]
     },
     "execution_count": 12,
     "metadata": {
      "tags": []
     },
     "output_type": "execute_result"
    }
   ],
   "source": [
    "Set= set(target_name)\n",
    "Set"
   ]
  },
  {
   "cell_type": "code",
   "execution_count": null,
   "metadata": {
    "colab": {},
    "colab_type": "code",
    "id": "dVBVAqrKYUYO"
   },
   "outputs": [],
   "source": [
    "for i in Set:\n",
    "  data_name = data.loc[data['name']==i]\n",
    "  data_name.to_csv(path+f'{i}.csv')"
   ]
  },
  {
   "cell_type": "code",
   "execution_count": null,
   "metadata": {
    "colab": {
     "base_uri": "https://localhost:8080/",
     "height": 34
    },
    "colab_type": "code",
    "executionInfo": {
     "elapsed": 1387,
     "status": "ok",
     "timestamp": 1595205261945,
     "user": {
      "displayName": "Samyak Jain",
      "photoUrl": "https://lh3.googleusercontent.com/a-/AOh14Gioocp3b6d0F-BZZ3D9c4FJz-F7ie6BPVSG0xZr=s64",
      "userId": "08656034860933804166"
     },
     "user_tz": 420
    },
    "id": "z-GVKxf2afx7",
    "outputId": "73288f5a-b714-4243-d859-09495fae2998"
   },
   "outputs": [
    {
     "data": {
      "text/plain": [
       "25"
      ]
     },
     "execution_count": 14,
     "metadata": {
      "tags": []
     },
     "output_type": "execute_result"
    }
   ],
   "source": [
    "len(Set)"
   ]
  },
  {
   "cell_type": "code",
   "execution_count": null,
   "metadata": {
    "colab": {},
    "colab_type": "code",
    "id": "HYHOaJYVbXuN"
   },
   "outputs": [],
   "source": [
    "path= '/content/drive/My Drive/Metagenomics/Bacteria/data/Name/'\n",
    "adf={}\n",
    "for i in Set:\n",
    "   adf[i]=pd.read_csv(path+f\"{i}.csv\")"
   ]
  },
  {
   "cell_type": "code",
   "execution_count": null,
   "metadata": {
    "colab": {},
    "colab_type": "code",
    "id": "kbAworOBbGN0"
   },
   "outputs": [],
   "source": [
    "path='/content/drive/My Drive/Metagenomics/Bacteria/Name/'\n",
    "tdf = pd.DataFrame(columns= taxa+['read'])\n",
    "vdf = pd.DataFrame(columns= taxa+['read'])\n",
    "tsdf= pd.DataFrame(columns= taxa+['read'])\n",
    "\n",
    "for i in Set:\n",
    "   train= adf[i].iloc[:20]\n",
    "   valid= adf[i].iloc[20:32]\n",
    "   test= adf[i].iloc[32:36]\n",
    "   tdf= tdf.append(train)\n",
    "   vdf= vdf.append(valid)\n",
    "   tsdf= tsdf.append(test)\n",
    "\n",
    "tdf.to_csv(path+'train.csv')\n",
    "vdf.to_csv(path+'valid.csv')\n",
    "tsdf.to_csv(path+'test.csv')"
   ]
  }
 ],
 "metadata": {
  "accelerator": "GPU",
  "colab": {
   "authorship_tag": "ABX9TyNT7aIWtToZCyQXYPxrW2cU",
   "collapsed_sections": [],
   "mount_file_id": "1saU-ObDNg8w5KbRGNsW1SWgSTIX82ETT",
   "name": "Data_Preprocessing.ipynb",
   "provenance": [],
   "toc_visible": true
  },
  "kernelspec": {
   "display_name": "Python 3",
   "language": "python",
   "name": "python3"
  },
  "language_info": {
   "codemirror_mode": {
    "name": "ipython",
    "version": 3
   },
   "file_extension": ".py",
   "mimetype": "text/x-python",
   "name": "python",
   "nbconvert_exporter": "python",
   "pygments_lexer": "ipython3",
   "version": "3.7.6"
  }
 },
 "nbformat": 4,
 "nbformat_minor": 4
}
